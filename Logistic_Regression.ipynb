{
  "nbformat": 4,
  "nbformat_minor": 0,
  "metadata": {
    "colab": {
      "provenance": [],
      "gpuType": "T4"
    },
    "kernelspec": {
      "name": "python3",
      "display_name": "Python 3"
    },
    "language_info": {
      "name": "python"
    },
    "accelerator": "GPU"
  },
  "cells": [
    {
      "cell_type": "code",
      "source": [
        "import pandas as pd #for importing dataset\n",
        "import numpy as nm #for doing mathematical operations\n",
        "from sklearn.linear_model import LogisticRegression\n",
        "import matplotlib.pyplot as plt #for visualizing dataset"
      ],
      "metadata": {
        "id": "3f_NYUA1CyHQ"
      },
      "execution_count": null,
      "outputs": []
    },
    {
      "cell_type": "code",
      "source": [
        "true=pd.read_excel(\"/content/title.xlsx\")\n",
        "fake=pd.read_excel(\"/content/text.xlsx\")"
      ],
      "metadata": {
        "id": "i2qD_FGHC11r"
      },
      "execution_count": null,
      "outputs": []
    },
    {
      "cell_type": "code",
      "source": [
        "print(true.head(10))"
      ],
      "metadata": {
        "id": "VC7EsQ7SC3Ib"
      },
      "execution_count": null,
      "outputs": []
    },
    {
      "cell_type": "code",
      "source": [
        "print(fake.head(10))"
      ],
      "metadata": {
        "id": "NO6Rp9L1DdTV"
      },
      "execution_count": null,
      "outputs": []
    },
    {
      "cell_type": "code",
      "source": [
        "print(true.shape),print(fake.shape)"
      ],
      "metadata": {
        "id": "GS9daouCDeRW"
      },
      "execution_count": null,
      "outputs": []
    },
    {
      "cell_type": "code",
      "source": [
        "true[\"class\"]=1\n",
        "fake[\"class\"]=0"
      ],
      "metadata": {
        "id": "UmdalTKiDjtm"
      },
      "execution_count": null,
      "outputs": []
    },
    {
      "cell_type": "code",
      "source": [
        "dt=true.head(9)\n",
        "for i in range(9,0,-1):\n",
        "  true.drop([i],axis=0,inplace=True)\n",
        "df=fake.head(9)\n",
        "for i in range(9,0,-1):\n",
        "  fake.drop([i],axis=0,inplace=True)\n",
        "dm=pd.concat([df,dt],axis=0)\n",
        "dm.to_excel(\"manual.xlsx\")"
      ],
      "metadata": {
        "id": "bc407YjzDs2l"
      },
      "execution_count": null,
      "outputs": []
    },
    {
      "cell_type": "code",
      "source": [
        "from sklearn.model_selection import train_test_split as ttp\n",
        "from sklearn.metrics import classification_report\n",
        "data=pd.read_excel(\"manual.xlsx\")\n",
        "x=data[\"title\"]\n",
        "y=data[\"class\"]\n",
        "x_train,x_test,y_train,y_test=ttp(x,y,test_size=0.25,random_state=0)\n",
        "from sklearn.feature_extraction.text import TfidfVectorizer\n",
        "vector = TfidfVectorizer()\n",
        "xv_train=vector.fit_transform(x_train)\n",
        "xv_test=vector.transform(x_test)"
      ],
      "metadata": {
        "id": "EQHMUEySEUk0"
      },
      "execution_count": null,
      "outputs": []
    },
    {
      "cell_type": "code",
      "source": [
        "#Logistic Regression:\n",
        "from sklearn.linear_model import LogisticRegression\n",
        "LR=LogisticRegression()\n",
        "LR.fit(xv_train,y_train)\n",
        "accuracy = LR.score(xv_test,y_test).round(2)\n",
        "print(\"Accuracy is\" , accuracy)\n",
        "pred_LR= LR.predict(xv_test)\n",
        "print(classification_report(y_test,pred_LR))"
      ],
      "metadata": {
        "id": "-VvjgGfDJB4k"
      },
      "execution_count": null,
      "outputs": []
    }
  ]
}