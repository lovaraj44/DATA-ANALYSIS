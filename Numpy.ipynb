{
  "nbformat": 4,
  "nbformat_minor": 0,
  "metadata": {
    "colab": {
      "provenance": []
    },
    "kernelspec": {
      "name": "python3",
      "display_name": "Python 3"
    },
    "language_info": {
      "name": "python"
    }
  },
  "cells": [
    {
      "cell_type": "code",
      "execution_count": null,
      "metadata": {
        "id": "BgUg9sRWyRfd"
      },
      "outputs": [],
      "source": [
        "import numpy as np\n",
        "\n",
        "#creating arrays\n",
        "arr=np.array([1,2,3,4,5])\n",
        "print(arr)\n",
        "\n",
        "zeros_arr=np.zeros(((3,3)),dtype=int)\n",
        "print(zeros_arr)\n",
        "\n",
        "arrange_arr=np.arange(10)\n",
        "print(arrange_arr)\n",
        "\n",
        "#Array manipulation\n",
        "reshape_arr=arr.reshape(5,1)\n",
        "print(reshape_arr)\n",
        "\n",
        "sliced_arr=arr[2:4]\n",
        "print(sliced_arr)"
      ]
    },
    {
      "cell_type": "code",
      "source": [
        "import numpy as np\n",
        "\n",
        "#split\n",
        "arr=np.array([1,2,3,4])\n",
        "arr1=np.split(arr,2)\n",
        "print(arr1)"
      ],
      "metadata": {
        "id": "jXF46uDEC4QI"
      },
      "execution_count": null,
      "outputs": []
    },
    {
      "cell_type": "markdown",
      "source": [],
      "metadata": {
        "id": "IKerqfkjGHgw"
      }
    },
    {
      "cell_type": "code",
      "source": [
        "import numpy as np\n",
        "\n",
        "#Stack\n",
        "arr1=np.array([1,2,3])\n",
        "arr2=np.array([4,5,6])\n",
        "arr3=np.stack(arr1+arr2)\n",
        "print(arr3)"
      ],
      "metadata": {
        "id": "kjV8TATgDXTY"
      },
      "execution_count": null,
      "outputs": []
    },
    {
      "cell_type": "code",
      "source": [
        "import numpy as np\n",
        "\n",
        "#vstack\n",
        "arr1=np.array([1,2,3])\n",
        "arr2=np.array([4,5,6])\n",
        "arr3=np.vstack(arr1+arr2)\n",
        "print(arr3)"
      ],
      "metadata": {
        "id": "KD277SMnC0dp"
      },
      "execution_count": null,
      "outputs": []
    },
    {
      "cell_type": "code",
      "source": [
        "import numpy as np\n",
        "\n",
        "#Addition of Arrays\n",
        "m1=np.array([[1,2,3],[2,3,4]])\n",
        "m2=np.array([[3,7,4],[2,5,1]])\n",
        "result=m1+m2\n",
        "r2=m1+3\n",
        "print(result)\n",
        "print(r2)"
      ],
      "metadata": {
        "id": "vs7kRcQXAZ6z"
      },
      "execution_count": null,
      "outputs": []
    },
    {
      "cell_type": "code",
      "source": [
        "import numpy as np\n",
        "\n",
        "#transposing\n",
        "\n",
        "a=np.array([[1,2,3,4],[5,6,7,8]])\n",
        "b=a.T\n",
        "print(b)"
      ],
      "metadata": {
        "id": "LZNN7Ok-Gz6m"
      },
      "execution_count": null,
      "outputs": []
    },
    {
      "cell_type": "code",
      "source": [
        "import numpy as np\n",
        "\n",
        "#linear Algebra\n",
        "\n",
        "arr=np.array([[1,2],[3,4]])\n",
        "arr2=np.array([[5,6],[7,8]])\n",
        "\n",
        "#dot product\n",
        "r=np.dot(arr,arr2)\n",
        "\n",
        "d=np.linalg.eig(r)\n",
        "print(r)\n",
        "print(d)"
      ],
      "metadata": {
        "id": "0YIfp7_9JgfW"
      },
      "execution_count": null,
      "outputs": []
    },
    {
      "cell_type": "code",
      "source": [
        "import numpy as np\n",
        "\n",
        "#Sum of Array\n",
        "e1=np.array([[1,2,3],[4,5,6]])\n",
        "e3=np.sum(e1,axis=0)\n",
        "e2=np.sum(e1,axis=1)\n",
        "print(e2)\n",
        "print(e3)"
      ],
      "metadata": {
        "id": "aeLuoT4oLjM9"
      },
      "execution_count": null,
      "outputs": []
    },
    {
      "cell_type": "code",
      "source": [
        "import numpy as np\n",
        "\n",
        "#Statistical operaions\n",
        "\n",
        "a=np.array([1,2,3,4,5])\n",
        "\n",
        "Mean=np.mean(a)\n",
        "med=np.median(a)\n",
        "vari=np.var(a)\n",
        "SD=np.std(a)\n",
        "\n",
        "print(Mean)\n",
        "print(med)\n",
        "print(vari)\n",
        "print(SD)"
      ],
      "metadata": {
        "id": "_4Z8Y3IKgmRQ"
      },
      "execution_count": null,
      "outputs": []
    },
    {
      "cell_type": "code",
      "source": [
        "import numpy as np\n",
        "\n",
        "#Load and Saving files\n",
        "\n",
        "data=np.loadtxt(\"/content/Mahi.txt\",dtype=int)\n",
        "daa=np.savetxt(\"/content/Mahu.txt\",data)\n",
        "print(data)"
      ],
      "metadata": {
        "id": "VvF95rMvj3Ny"
      },
      "execution_count": null,
      "outputs": []
    },
    {
      "cell_type": "code",
      "source": [
        "#mathplot lib\n",
        "import numpy as np\n",
        "import matplotlib.pyplot as plt\n",
        "#Graph plot\n",
        "a=np.array([1,2])\n",
        "plt.plot(a)"
      ],
      "metadata": {
        "id": "LDjHQnwOtzcY"
      },
      "execution_count": null,
      "outputs": []
    }
  ]
}