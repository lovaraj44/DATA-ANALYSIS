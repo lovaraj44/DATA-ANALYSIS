{
  "nbformat": 4,
  "nbformat_minor": 0,
  "metadata": {
    "colab": {
      "provenance": []
    },
    "kernelspec": {
      "name": "python3",
      "display_name": "Python 3"
    },
    "language_info": {
      "name": "python"
    }
  },
  "cells": [
    {
      "cell_type": "code",
      "execution_count": null,
      "metadata": {
        "id": "crt-faNV47IY"
      },
      "outputs": [],
      "source": [
        "pip install seaborn"
      ]
    },
    {
      "cell_type": "code",
      "source": [
        "import seaborn as sns\n",
        "import matplotlib.pyplot as plt\n",
        "#Load example dataset\n",
        "tips=sns.load_dataset(\"tips\")\n",
        "#create a scattter plot\n",
        "sns.scatterplot(x=\"total_bill\",y=\"tip\",data=tips)\n",
        "sns.violinplot(x=\"total_bill\",y=\"tip\",data=tips)\n",
        "plt.title(\"Scatter Plot of Total Bill vs. Tip\")\n",
        "plt.xlabel(\"Total Bill($)\")\n",
        "plt.ylabel(\"Tip ($)\")\n",
        "plt.show()"
      ],
      "metadata": {
        "id": "BMDTQcfr5KUd"
      },
      "execution_count": null,
      "outputs": []
    },
    {
      "cell_type": "code",
      "source": [
        "import seaborn as sns\n",
        "import pandas as pd\n",
        "import matplotlib.pyplot as plt\n",
        "tips=pd.read_csv(\"/content/city_temperature(0).csv\")\n",
        "print(tips)\n",
        "sns.scatterplot(x=\"Year\",y=\"AvgTemperature\",data=tips)\n",
        "plt.title(\"Scatter Plot of Year vs. Temperature\")\n",
        "plt.xlabel(\"Year\")\n",
        "plt.ylabel(\"Temperature (c)\")\n",
        "plt.show()"
      ],
      "metadata": {
        "id": "Dp9i-WMF-LrW"
      },
      "execution_count": null,
      "outputs": []
    },
    {
      "cell_type": "code",
      "source": [
        "import seaborn as sns\n",
        "import matplotlib.pyplot as plt\n",
        "#Load example dataset\n",
        "tips=sns.load_dataset(\"titanic\")\n",
        "print(tips)\n",
        "#create a scattter plot\n",
        "sns.scatterplot(x=\"survived\",y=\"age\",data=tips)\n",
        "plt.title(\"Scatter Plot of surved vs. age\")\n",
        "plt.xlabel(\"Survived\")\n",
        "plt.ylabel(\"Age\")\n",
        "plt.show()"
      ],
      "metadata": {
        "id": "UNe950xR_QWH"
      },
      "execution_count": null,
      "outputs": []
    },
    {
      "cell_type": "code",
      "source": [
        "import seaborn as sns\n",
        "import matplotlib.pyplot as plt\n",
        "#Load example dataset\n",
        "iris=sns.load_dataset(\"iris\")\n",
        "print(iris)\n",
        "#compute correlation matrix\n",
        "correlation_matrix=iris.corr()\n",
        "#create a heatmap of the correlation matrix\n",
        "sns.heatmap(correlation_matrix,annot=True,cmap=\"coolwarm\")\n",
        "plt.title(\"Correlation heatmap of Iris Dataset\")\n",
        "plt.show()"
      ],
      "metadata": {
        "id": "yfXtlW4z_5Rx"
      },
      "execution_count": null,
      "outputs": []
    },
    {
      "cell_type": "code",
      "source": [
        "import seaborn as sns\n",
        "import matplotlib.pyplot as plt\n",
        "#Load example dataset\n",
        "iris=sns.load_dataset(\"planets\")\n",
        "print(iris)\n",
        "#compute correlation matrix\n",
        "correlation_matrix=iris.corr()\n",
        "#create a heatmap of the correlation matrix\n",
        "sns.heatmap(correlation_matrix,annot=True,cmap=\"coolwarm\")\n",
        "plt.title(\"Correlation heatmap of Planets Dataset\")\n",
        "plt.show()"
      ],
      "metadata": {
        "id": "ZBpCVjwLBVZu"
      },
      "execution_count": null,
      "outputs": []
    }
  ]
}