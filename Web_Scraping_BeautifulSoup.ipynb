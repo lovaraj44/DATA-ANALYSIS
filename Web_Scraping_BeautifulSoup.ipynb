{
  "nbformat": 4,
  "nbformat_minor": 0,
  "metadata": {
    "colab": {
      "provenance": []
    },
    "kernelspec": {
      "name": "python3",
      "display_name": "Python 3"
    },
    "language_info": {
      "name": "python"
    }
  },
  "cells": [
    {
      "cell_type": "markdown",
      "source": [
        "#Project 1:\n",
        "Extracting HTML code of any Website using BeautifulSoup"
      ],
      "metadata": {
        "id": "IXuXi8OHtofT"
      }
    },
    {
      "cell_type": "code",
      "source": [
        "#Importing Libraries\n",
        "from bs4 import BeautifulSoup\n",
        "import requests"
      ],
      "metadata": {
        "id": "3N6floJytxIm"
      },
      "execution_count": null,
      "outputs": []
    },
    {
      "cell_type": "code",
      "source": [
        "#Save the url and  access the web page\n",
        "a='https://myanimelist.net/'\n",
        "page=requests.get(a)"
      ],
      "metadata": {
        "id": "YG7aJ_Jsu5Gq"
      },
      "execution_count": null,
      "outputs": []
    },
    {
      "cell_type": "code",
      "source": [
        "#HTML code\n",
        "h_code=BeautifulSoup(page.text,'html')\n",
        "print(h_code)"
      ],
      "metadata": {
        "id": "xu8m0y_NvTur"
      },
      "execution_count": null,
      "outputs": []
    },
    {
      "cell_type": "code",
      "source": [
        "t=h_code.find('title')\n",
        "print(t)"
      ],
      "metadata": {
        "id": "fJoOxCj10XvR"
      },
      "execution_count": null,
      "outputs": []
    },
    {
      "cell_type": "code",
      "source": [
        "print(t.text)"
      ],
      "metadata": {
        "id": "pB0QFGfV2Qj8"
      },
      "execution_count": null,
      "outputs": []
    },
    {
      "cell_type": "markdown",
      "source": [
        "#Project 2:\n",
        "Extracting HTML code from Webpage and storing Table Data using DataFrame"
      ],
      "metadata": {
        "id": "uNp9DL0k3Sxf"
      }
    },
    {
      "cell_type": "code",
      "source": [
        "#Importing Libraries\n",
        "from bs4 import BeautifulSoup\n",
        "import requests"
      ],
      "metadata": {
        "id": "BYTigA8u2QiP"
      },
      "execution_count": null,
      "outputs": []
    },
    {
      "cell_type": "code",
      "source": [
        "#Save the url and  access the web page\n",
        "a='https://www.forbesindia.com/article/explainers/top-10-richest-people-india/85909/1'\n",
        "page=requests.get(a)"
      ],
      "metadata": {
        "id": "G9u8Qc-v3yrJ"
      },
      "execution_count": null,
      "outputs": []
    },
    {
      "cell_type": "code",
      "source": [
        "#HTML code\n",
        "h_code=BeautifulSoup(page.text,'html')\n",
        "print(h_code)"
      ],
      "metadata": {
        "id": "9u2KjrGW3yo_"
      },
      "execution_count": null,
      "outputs": []
    },
    {
      "cell_type": "code",
      "source": [
        "#storing tabel information\n",
        "tabel=h_code.find('table')\n",
        "print(tabel)"
      ],
      "metadata": {
        "id": "qlaNj-nq5ALn"
      },
      "execution_count": null,
      "outputs": []
    },
    {
      "cell_type": "code",
      "source": [
        "#Storing Heading information\n",
        "head=h_code.find_all('th')\n",
        "print(head)"
      ],
      "metadata": {
        "id": "URw13HIs-618"
      },
      "execution_count": null,
      "outputs": []
    },
    {
      "cell_type": "code",
      "source": [
        "#Saving data into List\n",
        "h=[]\n",
        "for i in head:\n",
        "  h.append(i.text)\n",
        "print(h)\n",
        "#List comprehension\n",
        "h1=[i.text for i in head]\n",
        "print(h1)"
      ],
      "metadata": {
        "id": "zCbYanbd8M_Q"
      },
      "execution_count": null,
      "outputs": []
    },
    {
      "cell_type": "code",
      "source": [
        "#Creating Data Frame\n",
        "import pandas as pd\n",
        "DF=pd.DataFrame(columns=h)\n",
        "print(DF)"
      ],
      "metadata": {
        "id": "dbgNB3tx_cTF"
      },
      "execution_count": null,
      "outputs": []
    },
    {
      "cell_type": "code",
      "source": [
        "#Loading Row Data\n",
        "rows=h_code.find_all('tr')\n",
        "print(rows)"
      ],
      "metadata": {
        "id": "_5pnTprkB-k1"
      },
      "execution_count": null,
      "outputs": []
    },
    {
      "cell_type": "code",
      "source": [
        "#Storing Row Data in DataFrame\n",
        "index=0\n",
        "for i in rows[1:6]:\n",
        "  erd=i.find_all('td')\n",
        "  rd=[j.text for j in erd]\n",
        "  DF.loc[index]=rd\n",
        "  index=index+1\n",
        "print(DF)"
      ],
      "metadata": {
        "id": "rJmvk2KuDttf"
      },
      "execution_count": null,
      "outputs": []
    },
    {
      "cell_type": "code",
      "source": [
        "#Saving to the csv file\n",
        "DF.to_csv('LovRaj.csv')"
      ],
      "metadata": {
        "id": "gOqjYsMYLME6"
      },
      "execution_count": null,
      "outputs": []
    }
  ]
}