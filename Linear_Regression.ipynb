{
  "nbformat": 4,
  "nbformat_minor": 0,
  "metadata": {
    "colab": {
      "provenance": [],
      "gpuType": "T4"
    },
    "kernelspec": {
      "name": "python3",
      "display_name": "Python 3"
    },
    "language_info": {
      "name": "python"
    },
    "accelerator": "GPU"
  },
  "cells": [
    {
      "cell_type": "code",
      "source": [
        "from sklearn.linear_model import LinearRegression\n",
        "from sklearn.linear_model import LogisticRegression\n",
        "import seaborn as sns\n",
        "import pandas as pd\n",
        "import numpy as np\n",
        "import matplotlib.pyplot as plt\n",
        "from sklearn.model_selection import train_test_split\n",
        "df=pd.read_csv('//content/heart.csv')\n",
        "h=df.head(10)\n",
        "t=df.tail(10)\n",
        "print(df.shape)\n",
        "for i in range(293,283,-1):\n",
        "  df.drop([i],axis=0,inplace=True)\n",
        "for i in range(10):\n",
        "  df.drop([i],axis=0,inplace=True)\n",
        "dfmt=pd.concat([h,t],axis=0)\n",
        "dfmt.to_csv(\"test_file.csv\")\n",
        "data=pd.read_csv('/content/test_file.csv')\n",
        "print(data)"
      ],
      "metadata": {
        "id": "5lWMGCD7nh-D"
      },
      "execution_count": null,
      "outputs": []
    },
    {
      "cell_type": "code",
      "source": [
        "data=data.sample(frac=1)\n",
        "data.head(10)\n",
        "x=data[[\"chol\"]]\n",
        "y=data[\"output\"]\n",
        "X_train, X_test, y_train, y_test = train_test_split(x, y, test_size=0.2, random_state=42)\n",
        "model = LinearRegression()\n",
        "model.fit(X_train, y_train)\n",
        "acc=model.score(X_test,y_test).round(2)\n",
        "y_pred = model.predict(X_test)\n",
        "print(acc,'\\n',y_pred)\n",
        "sns.heatmap([y_test,y_pred])"
      ],
      "metadata": {
        "id": "s-AxIdfRn5o-"
      },
      "execution_count": null,
      "outputs": []
    },
    {
      "cell_type": "code",
      "source": [
        "model = LogisticRegression()\n",
        "model.fit(X_train, y_train)\n",
        "acc=model.score(X_test,y_test).round(2)\n",
        "y_pred = model.predict(X_test)\n",
        "print(acc,'\\n',y_pred)\n"
      ],
      "metadata": {
        "id": "S90E5bXwn-74"
      },
      "execution_count": null,
      "outputs": []
    },
    {
      "cell_type": "code",
      "source": [
        "from sklearn.linear_model import LogisticRegression\n",
        "model = LogisticRegression()\n",
        "model.fit(X_train, y_train)\n",
        "acc=model.score(X_test,y_test).round(2)\n",
        "y_pred = model.predict(X_test)\n",
        "print(acc,'\\n',y_pred)"
      ],
      "metadata": {
        "id": "tJ8dvpnUoBJm"
      },
      "execution_count": null,
      "outputs": []
    },
    {
      "cell_type": "code",
      "source": [
        "from sklearn.metrics import confusion_matrix\n",
        "cm= confusion_matrix(y_test,y_pred)\n",
        "sns.heatmap(cm,annot=True)"
      ],
      "metadata": {
        "id": "LX65JlNKoDbH"
      },
      "execution_count": null,
      "outputs": []
    }
  ]
}