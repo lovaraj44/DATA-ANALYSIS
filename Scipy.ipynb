{
  "nbformat": 4,
  "nbformat_minor": 0,
  "metadata": {
    "colab": {
      "provenance": []
    },
    "kernelspec": {
      "name": "python3",
      "display_name": "Python 3"
    },
    "language_info": {
      "name": "python"
    }
  },
  "cells": [
    {
      "cell_type": "code",
      "execution_count": null,
      "metadata": {
        "id": "RFAOG7nGQNto"
      },
      "outputs": [],
      "source": [
        "pip install scipy"
      ]
    },
    {
      "cell_type": "code",
      "source": [
        "import scipy\n",
        "#Example: Integration using quad function\n",
        "from scipy import integrate\n",
        "result,error=integrate.quad(lambda x:x**2,0,1)\n",
        "print(\"Result=\",result)\n",
        "print(\"Erroe\",error)"
      ],
      "metadata": {
        "id": "QZoG-FE5QuQt"
      },
      "execution_count": null,
      "outputs": []
    },
    {
      "cell_type": "code",
      "source": [
        "import numpy as np\n",
        "from scipy import interpolate\n",
        "import matplotlib.pyplot as plt\n",
        "#Interpolation\n",
        "x_data=np.array([0,1,2,3,4])\n",
        "y_data=np.array([0,2,1,3,5])\n",
        "interp_func=interpolate.interp1d(x_data,y_data,kind='linear')\n",
        "interp_result=interp_func(2.5)\n",
        "print(\"Interpolation Result:\",interp_result)\n",
        "plt.plot(x_data,y_data,linewidth='3',color=\"red\")"
      ],
      "metadata": {
        "id": "kPJOrthAVSl9"
      },
      "execution_count": null,
      "outputs": []
    },
    {
      "cell_type": "code",
      "source": [
        "square=lambda x:x**2\n",
        "from scipy import optimize\n",
        "#Optimization\n",
        "result_optimization=optimize.minimize_scalar(lambda x:x**2+3*x+5)\n",
        "print(\"Optimization Result\",result_optimization.x)"
      ],
      "metadata": {
        "id": "g9w4r5QYWAsn"
      },
      "execution_count": null,
      "outputs": []
    },
    {
      "cell_type": "code",
      "source": [
        "import numpy as np\n",
        "import pandas as pd\n",
        "import scipy.stats as stats\n",
        "import statsmodels.api as sm"
      ],
      "metadata": {
        "id": "oV79PsG5ahV4"
      },
      "execution_count": null,
      "outputs": []
    },
    {
      "cell_type": "code",
      "source": [
        "#Generate sample data\n",
        "import random\n",
        "np.random.seed(0)\n",
        "data=pd.DataFrame({\n",
        "    'Treatment':np.random.choice(['A','B','C'],size=10),'Score':np.random.normal(loc=10,scale=2,size=10)\n",
        "    })\n",
        "print(data)\n",
        "random.seed(0)\n",
        "print(random.random())\n",
        "print(random.random())"
      ],
      "metadata": {
        "id": "q2L3HMcqbWFN"
      },
      "execution_count": null,
      "outputs": []
    },
    {
      "cell_type": "code",
      "source": [
        "#Hypothesis testing (t-Test)\n",
        "group_A=data[data['Treatment']=='A']['Score']\n",
        "group_B=data[data['Treatment']=='B']['Score']\n",
        "t_stat,p_value=stats.ttest_ind(group_A,group_B)\n",
        "print(\"t-statistics\",t_stat)\n",
        "print(\"p-value:\",p_value)\n",
        "f_stat,p_value=stats.f_oneway(data[data['Treatment']=='A']['Score'],\n",
        "                              data[data['Treatment']=='B']['Score'])\n",
        "print(\"F-Statistics:\",f_stat)\n",
        "print(\"p-value:\",p_value)"
      ],
      "metadata": {
        "id": "QqFvee7DdL7H"
      },
      "execution_count": null,
      "outputs": []
    },
    {
      "cell_type": "code",
      "source": [
        "import numpy as np\n",
        "import pandas as pd\n",
        "import scipy.stats as stats\n",
        "import statsmodels.api as sm\n",
        "#Generate sample data\n",
        "import random\n",
        "np.random.seed(10)\n",
        "data1=pd.DataFrame({\n",
        "    'Sal':np.random.normal(loc=12,scale=3,size=10),'Bonus':np.random.normal(loc=10,scale=2,size=10)\n",
        "                  })\n",
        "print(data1)\n",
        "#Hypothesis testing (t-Test)\n",
        "group_A=data1['Sal']\n",
        "group_B=data1['Bonus']\n",
        "t_stat,p_value=stats.ttest_ind(group_A,group_B)\n",
        "#Mean\n",
        "a=data1['Sal'].mean()\n",
        "b=data1['Bonus'].mean()\n",
        "print(\"t-statistics\",t_stat)\n",
        "print(\"p-value:\",p_value)\n",
        "\n",
        "print(\"Mean of A:\",a)\n",
        "print(\"Mean of B:\",b)\n"
      ],
      "metadata": {
        "id": "60E5J4xZk4DY"
      },
      "execution_count": null,
      "outputs": []
    },
    {
      "cell_type": "code",
      "source": [
        "#ANOVA (One-way ANOVA)\n",
        "f_stat,p_value=stats.f_oneway(data[data['Treatment']=='A']['Score'],\n",
        "                              data[data['Treatment']=='B']['Score'],\n",
        "                              data[data['Treatment']=='C']['Score'])\n",
        "print(\"F-Statistics:\",f_stat)\n",
        "print(\"p-value:\",p_value)"
      ],
      "metadata": {
        "id": "r2XHZoHdyWP9"
      },
      "execution_count": null,
      "outputs": []
    },
    {
      "cell_type": "code",
      "source": [
        "#Regression Analysis (simple Linear Regression)\n",
        "import statsmodels.api as sm\n",
        "X=sm.add_constant(data['Treatment'].replace({'A':0,'B':1,'C':2}))\n",
        "model=sm.OLS(data['Score'],X)\n",
        "results=model.fit()\n",
        "print(results.summary())"
      ],
      "metadata": {
        "id": "fHeUiFOdTogQ"
      },
      "execution_count": null,
      "outputs": []
    },
    {
      "cell_type": "code",
      "source": [
        "import numpy as np\n",
        "import statsmodels.api as sm\n",
        "# Sample data\n",
        "X = np.array([1, 2, 3, 4, 5])  # Independent variable\n",
        "y = np.array([2, 4, 5, 4, 5])  # Dependent variable\n",
        "# Add a constant to the independent variable (for intercept estimation)\n",
        "X = sm.add_constant(X)\n",
        "# Create OLS model\n",
        "model = sm.OLS(y, X)\n",
        "# Fit the model\n",
        "results = model.fit()\n",
        "# Print summary of results\n",
        "print(results.summary())"
      ],
      "metadata": {
        "id": "tNYIrhOwZWpw"
      },
      "execution_count": null,
      "outputs": []
    }
  ]
}